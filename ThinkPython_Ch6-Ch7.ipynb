{
 "cells": [
  {
   "cell_type": "code",
   "execution_count": 7,
   "metadata": {},
   "outputs": [
    {
     "data": {
      "text/plain": [
       "1"
      ]
     },
     "execution_count": 7,
     "metadata": {},
     "output_type": "execute_result"
    }
   ],
   "source": [
    "#CH6-Fruitful functions within text excercise\n",
    "def compare(x,y):\n",
    "    if x>y:\n",
    "        return 1\n",
    "    if x<y:\n",
    "        return -1\n",
    "    if x==y:\n",
    "        return 0\n",
    "compare(8,3)"
   ]
  },
  {
   "cell_type": "code",
   "execution_count": 16,
   "metadata": {},
   "outputs": [
    {
     "data": {
      "text/plain": [
       "5.0"
      ]
     },
     "execution_count": 16,
     "metadata": {},
     "output_type": "execute_result"
    }
   ],
   "source": [
    "\"\"\"IN incremental developmet we are building and checking the parts\n",
    "of program if they are being built correctly. Below we are using print statements for debugging, to check if the program returns\n",
    "correct value and if it does then we are going into a right direction\"\"\"\n",
    "def distance(x1,y1,x2,y2):\n",
    "    dx=x2-x1\n",
    "    dy=y2-y1 \n",
    "    #print('dx is',dx) \n",
    "    #print('dy is',dy)\n",
    "    dsquared=dx**2+dy**2\n",
    "    #print('dsquared is:',dsquared)\n",
    "    import math\n",
    "    result=math.sqrt(dsquared)\n",
    "    return result\n",
    "distance(1,2,4,6)"
   ]
  },
  {
   "cell_type": "code",
   "execution_count": 21,
   "metadata": {},
   "outputs": [
    {
     "data": {
      "text/plain": [
       "78.53981633974483"
      ]
     },
     "execution_count": 21,
     "metadata": {},
     "output_type": "execute_result"
    }
   ],
   "source": [
    "\"\"\"the below we called function within function and consolidated the function further that is called composition\"\"\"\n",
    "\n",
    "import  math\n",
    "def area(radius):\n",
    "    return math.pi * radius**2\n",
    "def circle_area(xc,yc,xp,yp):\n",
    "    #radius=distance(xc,yc,xp,yp)\n",
    "    #result=(area(radius))\n",
    "    return area(distance(xc,yc,xp,yp))\n",
    "circle_area(1,2,4,6)\n",
    "    \n"
   ]
  },
  {
   "cell_type": "code",
   "execution_count": 3,
   "metadata": {},
   "outputs": [
    {
     "data": {
      "text/plain": [
       "False"
      ]
     },
     "execution_count": 3,
     "metadata": {},
     "output_type": "execute_result"
    }
   ],
   "source": [
    "\"\"\"Boolean function in text excercise, below function is checking if x<=y<=z then returns true else false\"\"\"\n",
    "def is_between(x,y,z):\n",
    "    if x<=y<=z:\n",
    "        return True\n",
    "    else:\n",
    "        return False\n",
    "is_between(9,3,4)"
   ]
  },
  {
   "cell_type": "code",
   "execution_count": 6,
   "metadata": {},
   "outputs": [
    {
     "data": {
      "text/plain": [
       "24"
      ]
     },
     "execution_count": 6,
     "metadata": {},
     "output_type": "execute_result"
    }
   ],
   "source": [
    "\"\"\"below function is finding a factorial of n by making a recursive call to itself\"\"\"\n",
    "def factorial(n):\n",
    "    if n==0:\n",
    "        return 1\n",
    "    else:\n",
    "        return n* factorial(n-1)\n",
    "factorial(4)"
   ]
  },
  {
   "cell_type": "code",
   "execution_count": 13,
   "metadata": {},
   "outputs": [
    {
     "data": {
      "text/plain": [
       "144"
      ]
     },
     "execution_count": 13,
     "metadata": {},
     "output_type": "execute_result"
    }
   ],
   "source": [
    "\"\"\"fibonacci series in python\"\"\"\n",
    "def fibonacci(n):\n",
    "    if n==0:\n",
    "        value = 0\n",
    "        return value\n",
    "    elif n==1:\n",
    "        value = 1\n",
    "        return value\n",
    "    else:\n",
    "        return fibonacci(n-1) + fibonacci (n-2)\n",
    "fibonacci (12)"
   ]
  },
  {
   "cell_type": "code",
   "execution_count": 1,
   "metadata": {},
   "outputs": [
    {
     "data": {
      "text/plain": [
       "'is instance function which is inbuilt to check the type of argument added or else give the error'"
      ]
     },
     "execution_count": 1,
     "metadata": {},
     "output_type": "execute_result"
    }
   ],
   "source": [
    "\"\"\"is instance function which is inbuilt to check the type of argument added or else give the error\"\"\""
   ]
  },
  {
   "cell_type": "code",
   "execution_count": 2,
   "metadata": {},
   "outputs": [],
   "source": [
    "#EX 6.1 Checking if the stack drawn on the notebook is correct or not\n",
    "def b(z):\n",
    "    prod=a(z,z)\n",
    "    print(z,prod)\n",
    "    return prod"
   ]
  },
  {
   "cell_type": "code",
   "execution_count": 3,
   "metadata": {},
   "outputs": [],
   "source": [
    "def a(x,y):\n",
    "    x=x+1\n",
    "    return x*y"
   ]
  },
  {
   "cell_type": "code",
   "execution_count": 4,
   "metadata": {},
   "outputs": [],
   "source": [
    "def c(x,y,z):\n",
    "    total=x+y+z\n",
    "    square=b(total)**2\n",
    "    return square"
   ]
  },
  {
   "cell_type": "code",
   "execution_count": 5,
   "metadata": {},
   "outputs": [
    {
     "name": "stdout",
     "output_type": "stream",
     "text": [
      "9 90\n",
      "8100\n"
     ]
    }
   ],
   "source": [
    "x=1\n",
    "y=x+1\n",
    "print(c(x,y+3,x+y))"
   ]
  },
  {
   "cell_type": "code",
   "execution_count": 2,
   "metadata": {},
   "outputs": [
    {
     "data": {
      "text/plain": [
       "125"
      ]
     },
     "execution_count": 2,
     "metadata": {},
     "output_type": "execute_result"
    }
   ],
   "source": [
    "#EX6.2 Ackermann function\n",
    "def ack(m,n):\n",
    "    if m==0:\n",
    "        return n+1\n",
    "    elif n==0:\n",
    "         return ack(m-1,1)\n",
    "    else:\n",
    "        return ack(m-1,ack(m,n-1))\n",
    "    \n",
    "ack(3,4)"
   ]
  },
  {
   "cell_type": "code",
   "execution_count": 28,
   "metadata": {},
   "outputs": [
    {
     "data": {
      "text/plain": [
       "True"
      ]
     },
     "execution_count": 28,
     "metadata": {},
     "output_type": "execute_result"
    }
   ],
   "source": [
    "#EX6.3 below function takes string of variables and returns first, last and middle letters\n",
    "def first(word):\n",
    "    return word[0]\n",
    "def last(word):\n",
    "    return word[-1]\n",
    "def middle(word):\n",
    "    return word[1:-1]\n",
    "# 6.3.1 middle('ks') if I call middle with 2 letters it just returns the empty string like ''\n",
    "#middle('k') it still returned the empty string ''\n",
    "#middle('') still it returned the empty string if I entered the empty string in the middle func\n",
    "\n",
    "# EX6.3.2 - is_palindrome to check if a string is palindrome. The below is used book's given solution\n",
    "\n",
    "def is_palindrome(word):\n",
    "    \"\"\"Returns True if word is a palindrome.\"\"\"\n",
    "    if len(word) <= 1:\n",
    "        return True\n",
    "    if first(word) != last(word):\n",
    "        return False\n",
    "    return is_palindrome(middle(word))\n",
    "is_palindrome('kayak')"
   ]
  },
  {
   "cell_type": "code",
   "execution_count": 3,
   "metadata": {},
   "outputs": [
    {
     "name": "stdout",
     "output_type": "stream",
     "text": [
      "True\n"
     ]
    }
   ],
   "source": [
    "#EX6.4 not done by me eithier as did not understood the question at first\n",
    "def is_power(a, b):\n",
    "    \"\"\"Checks if a is power of b.\"\"\"\n",
    "    if a == b:\n",
    "        return True\n",
    "    elif a%b == 0:\n",
    "        return is_power(a/b, b)\n",
    "    else:\n",
    "        return False\n",
    "print(is_power(128, 2))"
   ]
  },
  {
   "cell_type": "code",
   "execution_count": 16,
   "metadata": {},
   "outputs": [
    {
     "data": {
      "text/plain": [
       "4"
      ]
     },
     "execution_count": 16,
     "metadata": {},
     "output_type": "execute_result"
    }
   ],
   "source": [
    "#EX6.5 function below returns gcd(greatest common divisor)\n",
    "def gcd(a,b):\n",
    "    \"\"\"use gcd(a,0)=a as base means if b is zero just return a\"\"\"\n",
    "    if b==0: \n",
    "        return a\n",
    "    r=a%b\n",
    "    \"\"\"gcd(a,b)=gcd(b,r) is given in the question\"\"\"\n",
    "    return gcd(b,r) \n",
    "gcd(8,12)\n"
   ]
  },
  {
   "cell_type": "code",
   "execution_count": 17,
   "metadata": {},
   "outputs": [
    {
     "name": "stdout",
     "output_type": "stream",
     "text": [
      "5\n",
      "blastoff!\n",
      "4\n",
      "blastoff!\n",
      "3\n",
      "blastoff!\n",
      "2\n",
      "blastoff!\n",
      "1\n",
      "blastoff!\n"
     ]
    }
   ],
   "source": [
    "#Chpater 7 While statement\n",
    "def countdown(n):\n",
    "    while n>0:\n",
    "        print(n)\n",
    "        n=n-1\n",
    "        print('blastoff!')\n",
    "countdown(5)"
   ]
  },
  {
   "cell_type": "code",
   "execution_count": 20,
   "metadata": {},
   "outputs": [
    {
     "name": "stdout",
     "output_type": "stream",
     "text": [
      "3\n",
      "10\n",
      "5.0\n",
      "16.0\n",
      "8.0\n",
      "4.0\n",
      "2.0\n"
     ]
    }
   ],
   "source": [
    "def sequence(n):\n",
    "    while n!=1:\n",
    "        print(n)\n",
    "        if n%2 ==0:\n",
    "            n=n/2\n",
    "        else:\n",
    "            n=n*3 +1 \n",
    "sequence(3)"
   ]
  },
  {
   "cell_type": "code",
   "execution_count": 21,
   "metadata": {},
   "outputs": [
    {
     "name": "stdout",
     "output_type": "stream",
     "text": [
      "5\n",
      "snnu\n",
      "4\n",
      "snnu\n",
      "3\n",
      "snnu\n",
      "2\n",
      "snnu\n",
      "1\n",
      "snnu\n"
     ]
    }
   ],
   "source": [
    "# text excercise to write a function print_n using iteration\n",
    "def print_n(s,n):\n",
    "    while n>0:\n",
    "        #print(n)\n",
    "        print(s)\n",
    "        n=n-1\n",
    "print_n('snnu',5)"
   ]
  },
  {
   "cell_type": "code",
   "execution_count": 22,
   "metadata": {},
   "outputs": [
    {
     "name": "stdout",
     "output_type": "stream",
     "text": [
      ">hello\n",
      "Done!\n",
      ">yashu\n",
      "Done!\n",
      ">Done\n",
      "Done!\n",
      ">done\n"
     ]
    }
   ],
   "source": [
    "#use of break, stop when user types done, it will be running until the user type word done\n",
    "while True:\n",
    "    line=input('>')\n",
    "    if line == 'done':\n",
    "        break\n",
    "        print(line)\n",
    "    print('Done!')"
   ]
  },
  {
   "cell_type": "code",
   "execution_count": 7,
   "metadata": {},
   "outputs": [
    {
     "name": "stdout",
     "output_type": "stream",
     "text": [
      "3\n",
      "7.333333333333333\n",
      "6.053030303030303\n",
      "5.917629043880608\n",
      "5.91607998590119\n",
      "5.91607978309962\n",
      "5.916079783099616\n",
      "5.916079783099616\n"
     ]
    }
   ],
   "source": [
    "#square root by newton's method \n",
    "x=3\n",
    "a=35\n",
    "while True:\n",
    "    print(x)\n",
    "    y=(x+a/x)/2\n",
    "    if y==x:\n",
    "        print(y)\n",
    "        break\n",
    "    x=y"
   ]
  },
  {
   "cell_type": "code",
   "execution_count": 12,
   "metadata": {},
   "outputs": [
    {
     "name": "stdout",
     "output_type": "stream",
     "text": [
      "3\n"
     ]
    }
   ],
   "source": [
    "#EX7.1 Draw a chart after creating function that encapsulates the above function\n",
    "\"\"\"could not figure this out so need help\"\"\"\n",
    "   \n",
    "    "
   ]
  },
  {
   "cell_type": "code",
   "execution_count": 20,
   "metadata": {},
   "outputs": [
    {
     "ename": "NameError",
     "evalue": "name 'hello' is not defined",
     "output_type": "error",
     "traceback": [
      "\u001b[1;31m---------------------------------------------------------------------------\u001b[0m",
      "\u001b[1;31mNameError\u001b[0m                                 Traceback (most recent call last)",
      "\u001b[1;32m<ipython-input-20-7aed29a35e1a>\u001b[0m in \u001b[0;36m<module>\u001b[1;34m()\u001b[0m\n\u001b[0;32m      4\u001b[0m \u001b[0meval\u001b[0m\u001b[1;33m(\u001b[0m\u001b[1;34m'math.sqrt(5)'\u001b[0m\u001b[1;33m)\u001b[0m\u001b[1;33m\u001b[0m\u001b[0m\n\u001b[0;32m      5\u001b[0m \u001b[0meval\u001b[0m\u001b[1;33m(\u001b[0m\u001b[1;34m'type(math.pi)'\u001b[0m\u001b[1;33m)\u001b[0m\u001b[1;33m\u001b[0m\u001b[0m\n\u001b[1;32m----> 6\u001b[1;33m \u001b[0meval\u001b[0m\u001b[1;33m(\u001b[0m\u001b[1;34m'hello'\u001b[0m\u001b[1;33m)\u001b[0m\u001b[1;33m\u001b[0m\u001b[0m\n\u001b[0m",
      "\u001b[1;32m<string>\u001b[0m in \u001b[0;36m<module>\u001b[1;34m()\u001b[0m\n",
      "\u001b[1;31mNameError\u001b[0m: name 'hello' is not defined"
     ]
    }
   ],
   "source": [
    "#Ex7.2 \n",
    "import math\n",
    "eval('1+2*3')\n",
    "eval('math.sqrt(5)')\n",
    "eval('type(math.pi)')"
   ]
  },
  {
   "cell_type": "code",
   "execution_count": 21,
   "metadata": {},
   "outputs": [
    {
     "name": "stdout",
     "output_type": "stream",
     "text": [
      "89+87\n",
      "The last expression is 176\n",
      "8+4+9\n",
      "The last expression is 21\n",
      "7+9+0\n",
      "The last expression is 16\n",
      "done\n"
     ]
    }
   ],
   "source": [
    "#Ex7.2.2 below func iteratively prompts user to take the resulting input and evaluates it using eval and prints the result\n",
    "def eval_loop():\n",
    "    while True:\n",
    "        userInput=input('')\n",
    "        if userInput=='done':\n",
    "            break\n",
    "        else:\n",
    "            print('The last expression is',eval(userInput))\n",
    "eval_loop()\n",
    "        "
   ]
  }
 ],
 "metadata": {
  "kernelspec": {
   "display_name": "Python 3",
   "language": "python",
   "name": "python3"
  },
  "language_info": {
   "codemirror_mode": {
    "name": "ipython",
    "version": 3
   },
   "file_extension": ".py",
   "mimetype": "text/x-python",
   "name": "python",
   "nbconvert_exporter": "python",
   "pygments_lexer": "ipython3",
   "version": "3.6.5"
  }
 },
 "nbformat": 4,
 "nbformat_minor": 2
}
