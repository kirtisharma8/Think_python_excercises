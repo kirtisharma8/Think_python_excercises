{
 "cells": [
  {
   "cell_type": "code",
   "execution_count": 2,
   "metadata": {},
   "outputs": [
    {
     "data": {
      "text/plain": [
       "('l', 'u', 'p', 'i', 'n', 's')"
      ]
     },
     "execution_count": 2,
     "metadata": {},
     "output_type": "execute_result"
    }
   ],
   "source": [
    "t=tuple('lupins')\n",
    "t"
   ]
  },
  {
   "cell_type": "code",
   "execution_count": 4,
   "metadata": {},
   "outputs": [
    {
     "data": {
      "text/plain": [
       "('u', 'p')"
      ]
     },
     "execution_count": 4,
     "metadata": {},
     "output_type": "execute_result"
    }
   ],
   "source": [
    "\"\"\"slice operator selects a range in the same way lists does\"\"\"\n",
    "t[1:3]"
   ]
  },
  {
   "cell_type": "code",
   "execution_count": 6,
   "metadata": {},
   "outputs": [
    {
     "ename": "TypeError",
     "evalue": "'tuple' object does not support item assignment",
     "output_type": "error",
     "traceback": [
      "\u001b[1;31m---------------------------------------------------------------------------\u001b[0m",
      "\u001b[1;31mTypeError\u001b[0m                                 Traceback (most recent call last)",
      "\u001b[1;32m<ipython-input-6-1eaf55b4d274>\u001b[0m in \u001b[0;36m<module>\u001b[1;34m()\u001b[0m\n\u001b[0;32m      1\u001b[0m \u001b[1;31m#you cannot modify any element of the tuple\u001b[0m\u001b[1;33m\u001b[0m\u001b[1;33m\u001b[0m\u001b[0m\n\u001b[1;32m----> 2\u001b[1;33m \u001b[0mt\u001b[0m\u001b[1;33m[\u001b[0m\u001b[1;36m0\u001b[0m\u001b[1;33m]\u001b[0m\u001b[1;33m=\u001b[0m\u001b[1;34m'A'\u001b[0m\u001b[1;33m\u001b[0m\u001b[0m\n\u001b[0m",
      "\u001b[1;31mTypeError\u001b[0m: 'tuple' object does not support item assignment"
     ]
    }
   ],
   "source": [
    "#you cannot modify any element of the tuple\n",
    "t[0]='A'\n"
   ]
  },
  {
   "cell_type": "code",
   "execution_count": 7,
   "metadata": {},
   "outputs": [
    {
     "data": {
      "text/plain": [
       "('A', 'u', 'p', 'i', 'n', 's')"
      ]
     },
     "execution_count": 7,
     "metadata": {},
     "output_type": "execute_result"
    }
   ],
   "source": [
    "#we cannot modify tuple because they are immutable but we can replace one tuple with another\n",
    "t=('A',)+t[1:]\n",
    "t"
   ]
  },
  {
   "cell_type": "code",
   "execution_count": 17,
   "metadata": {},
   "outputs": [
    {
     "data": {
      "text/plain": [
       "True"
      ]
     },
     "execution_count": 17,
     "metadata": {},
     "output_type": "execute_result"
    }
   ],
   "source": [
    "\"\"\"the above statement has created new tuple and making t referring to it\n",
    "\n",
    "> relational operator work with tuples and other sequences. Python starts by comparing the first element from each sequence.\n",
    "if they are equal, it goes on to the next element and so on, until it finds element differ. subsequent elements are not \n",
    "considered ( even if they are really big)\n",
    "\n",
    "\"\"\"\n",
    "(0,1,2)<(0,3,4)\n",
    "#abve and below both has returned True\n",
    "(0,1,20)<(0,3,4)\n"
   ]
  },
  {
   "cell_type": "code",
   "execution_count": 19,
   "metadata": {},
   "outputs": [
    {
     "ename": "ValueError",
     "evalue": "too many values to unpack (expected 2)",
     "output_type": "error",
     "traceback": [
      "\u001b[1;31m---------------------------------------------------------------------------\u001b[0m",
      "\u001b[1;31mValueError\u001b[0m                                Traceback (most recent call last)",
      "\u001b[1;32m<ipython-input-19-c43fdb53ed1c>\u001b[0m in \u001b[0;36m<module>\u001b[1;34m()\u001b[0m\n\u001b[0;32m      8\u001b[0m \u001b[0mright\u001b[0m \u001b[0mside\u001b[0m \u001b[0mcan\u001b[0m \u001b[0mbe\u001b[0m \u001b[0many\u001b[0m \u001b[0mkind\u001b[0m \u001b[0mof\u001b[0m \u001b[0msequence\u001b[0m\u001b[1;33m(\u001b[0m\u001b[0mlist\u001b[0m\u001b[1;33m,\u001b[0m\u001b[0mstring\u001b[0m\u001b[1;33m,\u001b[0m\u001b[1;32mor\u001b[0m \u001b[0mtuple\u001b[0m\u001b[1;33m)\u001b[0m\u001b[1;33m\u001b[0m\u001b[0m\n\u001b[0;32m      9\u001b[0m \"\"\"\n\u001b[1;32m---> 10\u001b[1;33m \u001b[0ma\u001b[0m\u001b[1;33m,\u001b[0m\u001b[0mb\u001b[0m\u001b[1;33m=\u001b[0m\u001b[1;36m1\u001b[0m\u001b[1;33m,\u001b[0m\u001b[1;36m2\u001b[0m\u001b[1;33m,\u001b[0m\u001b[1;36m3\u001b[0m\u001b[1;33m\u001b[0m\u001b[0m\n\u001b[0m",
      "\u001b[1;31mValueError\u001b[0m: too many values to unpack (expected 2)"
     ]
    }
   ],
   "source": [
    "\"\"\"Tuple assignement\n",
    "a,b=b,a\n",
    "\n",
    "left side is a tuple of variables and right side is a tuple of expression. each value is assigned to its respective variable\n",
    "all the expressions on the right side are evaluated before any of the assignments\n",
    "\n",
    "the number of variable son he left and number of values on the right have to be the same.\n",
    "right side can be any kind of sequence(list,string,or tuple)\n",
    "\"\"\"\n",
    "a,b=1,2,3\n"
   ]
  },
  {
   "cell_type": "code",
   "execution_count": 21,
   "metadata": {},
   "outputs": [
    {
     "data": {
      "text/plain": [
       "'python.org'"
      ]
     },
     "execution_count": 21,
     "metadata": {},
     "output_type": "execute_result"
    }
   ],
   "source": [
    "#to split an email address into a user name and a domain\n",
    "addr='monty@python.org'\n",
    "uname,domain=addr.split('@')\n",
    "#return value from a split is a list first element with uname and second with domain\n",
    "uname\n",
    "domain"
   ]
  },
  {
   "cell_type": "code",
   "execution_count": 23,
   "metadata": {},
   "outputs": [
    {
     "data": {
      "text/plain": [
       "(2, 1)"
      ]
     },
     "execution_count": 23,
     "metadata": {},
     "output_type": "execute_result"
    }
   ],
   "source": [
    "\"\"\"Tuples as Return Values\n",
    "Usually function returns one value and if value is a tuple the effect is same as of returning multiple values.\n",
    "\n",
    "divmod builtin function return two values as tuple ( quiotent and remainder)\n",
    "\"\"\"\n",
    "t = divmod(7,3)\n",
    "t"
   ]
  },
  {
   "cell_type": "code",
   "execution_count": 24,
   "metadata": {},
   "outputs": [
    {
     "name": "stdout",
     "output_type": "stream",
     "text": [
      "(1, 2, '3')\n"
     ]
    }
   ],
   "source": [
    "\"\"\"* sign in front of an argument takes any number of arguments and gather them into tuple\"\"\"\n",
    "def printall(*args):\n",
    "    print(args)\n",
    "\n",
    "printall(1,2,'3')"
   ]
  },
  {
   "cell_type": "code",
   "execution_count": 27,
   "metadata": {},
   "outputs": [
    {
     "data": {
      "text/plain": [
       "(2, 1)"
      ]
     },
     "execution_count": 27,
     "metadata": {},
     "output_type": "execute_result"
    }
   ],
   "source": [
    "\"\"\"another way of using * is with function that does not take multiple arguments as tuple and using * let them take it for ex\n",
    "divmod, it does take 2 argument but does not take tuple\"\"\"\n",
    "t=(7,3)\n",
    "#divmod(t)\n",
    "#the above did not work\n",
    "divmod(*t)"
   ]
  },
  {
   "cell_type": "code",
   "execution_count": 29,
   "metadata": {},
   "outputs": [
    {
     "data": {
      "text/plain": [
       "3"
      ]
     },
     "execution_count": 29,
     "metadata": {},
     "output_type": "execute_result"
    }
   ],
   "source": [
    "\"\"\"Many built in functions use variable-length argument tuples. For example max and min can take any number\n",
    "of arguments but Sum can not\"\"\"\n",
    "max(1,2,3)"
   ]
  },
  {
   "cell_type": "code",
   "execution_count": 30,
   "metadata": {},
   "outputs": [
    {
     "ename": "TypeError",
     "evalue": "sum expected at most 2 arguments, got 3",
     "output_type": "error",
     "traceback": [
      "\u001b[1;31m---------------------------------------------------------------------------\u001b[0m",
      "\u001b[1;31mTypeError\u001b[0m                                 Traceback (most recent call last)",
      "\u001b[1;32m<ipython-input-30-dd9496db4b54>\u001b[0m in \u001b[0;36m<module>\u001b[1;34m()\u001b[0m\n\u001b[1;32m----> 1\u001b[1;33m \u001b[0msum\u001b[0m\u001b[1;33m(\u001b[0m\u001b[1;36m1\u001b[0m\u001b[1;33m,\u001b[0m\u001b[1;36m2\u001b[0m\u001b[1;33m,\u001b[0m\u001b[1;36m3\u001b[0m\u001b[1;33m)\u001b[0m\u001b[1;33m\u001b[0m\u001b[0m\n\u001b[0m",
      "\u001b[1;31mTypeError\u001b[0m: sum expected at most 2 arguments, got 3"
     ]
    }
   ],
   "source": [
    "sum(1,2,3)"
   ]
  },
  {
   "cell_type": "code",
   "execution_count": 33,
   "metadata": {},
   "outputs": [
    {
     "data": {
      "text/plain": [
       "14"
      ]
     },
     "execution_count": 33,
     "metadata": {},
     "output_type": "execute_result"
    }
   ],
   "source": [
    "#in text excercise write a function sumall that takes any number of arguments and returns their sum\n",
    "def sumall(*args):\n",
    "     return sum(args)\n",
    "    \n",
    "sumall(9,2,3)"
   ]
  },
  {
   "cell_type": "code",
   "execution_count": 35,
   "metadata": {},
   "outputs": [
    {
     "data": {
      "text/plain": [
       "<zip at 0x233358ca748>"
      ]
     },
     "execution_count": 35,
     "metadata": {},
     "output_type": "execute_result"
    }
   ],
   "source": [
    "\"\"\"Zip is a built in function that takes two or mre sequences and returns a list of tuples where each tuple contains\n",
    "element from each sequence the name of the function refers to a zipper, which joins and interleaves two rows of teeth\"\"\"\n",
    "\n",
    "s='abc'\n",
    "t=[0,1,2]\n",
    "zip(s,t)"
   ]
  },
  {
   "cell_type": "code",
   "execution_count": 37,
   "metadata": {},
   "outputs": [
    {
     "name": "stdout",
     "output_type": "stream",
     "text": [
      "('a', 0)\n",
      "('b', 1)\n",
      "('c', 2)\n"
     ]
    }
   ],
   "source": [
    "\"\"\"the reult of above is a zip object that knows hwo to iterate through the pairs, the most common use of zip is in for\n",
    "loop\"\"\"\n",
    "for pair in zip(s,t):\n",
    "    print(pair)"
   ]
  },
  {
   "cell_type": "code",
   "execution_count": 44,
   "metadata": {},
   "outputs": [
    {
     "data": {
      "text/plain": [
       "[('a', 0), ('b', 1), ('c', 2)]"
      ]
     },
     "execution_count": 44,
     "metadata": {},
     "output_type": "execute_result"
    }
   ],
   "source": [
    "\"\"\"zip object is like an iterator which is any object that iterates through a sequence. Iterators are similar to the lists\n",
    "in some ways but unlike lists, you can't use an index to iterate.\n",
    "To implement list operators and methods, zip object is used to make a list as shown below\"\"\"\n",
    "list(zip(s,t))"
   ]
  },
  {
   "cell_type": "code",
   "execution_count": 40,
   "metadata": {},
   "outputs": [
    {
     "data": {
      "text/plain": [
       "[('A', 'e'), ('n', 'l'), ('n', 'k')]"
      ]
     },
     "execution_count": 40,
     "metadata": {},
     "output_type": "execute_result"
    }
   ],
   "source": [
    "\"\"\"while zipping two sequences if the length is not the same then it will create tuple of a length of smaller one for ex\"\"\"\n",
    "list(zip('Anne','elk'))"
   ]
  },
  {
   "cell_type": "code",
   "execution_count": 46,
   "metadata": {},
   "outputs": [
    {
     "name": "stdout",
     "output_type": "stream",
     "text": [
      "a 0\n",
      "b 1\n",
      "c 2\n"
     ]
    }
   ],
   "source": [
    "\"\"\"you can use a tuple assignement in a for loop to traverse a list of tuples\"\"\"\n",
    "t=[('a', 0), ('b', 1), ('c', 2)]\n",
    "for letter,number in t:\n",
    "    print(letter,number)"
   ]
  },
  {
   "cell_type": "code",
   "execution_count": 48,
   "metadata": {},
   "outputs": [
    {
     "name": "stdout",
     "output_type": "stream",
     "text": [
      "0 a\n",
      "1 b\n",
      "2 c\n"
     ]
    }
   ],
   "source": [
    "\"\"\"you can compare elements of two sequences using zip, for loop and tuple assignment as below function, \n",
    "i.e t1[i]==t2[i]\"\"\"\n",
    "def has_match(t1,t2):\n",
    "    for x,y in zip(t1,t2):\n",
    "        if x==y:\n",
    "            return True\n",
    "    return False\n",
    "\n",
    "\"\"\"Built in function enumerate can be used to traverse the elements of sequence and theier indices as below\"\"\"\n",
    "for index,element in enumerate('abc'):\n",
    "    print(index,element)"
   ]
  },
  {
   "cell_type": "code",
   "execution_count": 50,
   "metadata": {},
   "outputs": [
    {
     "data": {
      "text/plain": [
       "dict_items([('a', 0), ('b', 1), ('c', 2)])"
      ]
     },
     "execution_count": 50,
     "metadata": {},
     "output_type": "execute_result"
    }
   ],
   "source": [
    "#Dictionaries and Tuples\n",
    "\"\"\"dictionaries have a mehod called items that returns a squence of tuples where each tuple is a key-value pair\"\"\"\n",
    "d={'a':0,'b':1,'c':2}\n",
    "t=d.items()\n",
    "t"
   ]
  },
  {
   "cell_type": "code",
   "execution_count": 52,
   "metadata": {},
   "outputs": [
    {
     "name": "stdout",
     "output_type": "stream",
     "text": [
      "a 0\n",
      "b 1\n",
      "c 2\n"
     ]
    }
   ],
   "source": [
    "\"\"\"dict_items object which is an iteraor that iterates the key-value pairs, it can be used in a foor loop like below\"\"\"\n",
    "for key,value in d.items():\n",
    "    print(key,value)"
   ]
  },
  {
   "cell_type": "code",
   "execution_count": 55,
   "metadata": {},
   "outputs": [
    {
     "data": {
      "text/plain": [
       "{'a': 0, 'b': 1, 'c': 2}"
      ]
     },
     "execution_count": 55,
     "metadata": {},
     "output_type": "execute_result"
    }
   ],
   "source": [
    "\"\"\"list of tuples can also be used to convert back into dict as below\"\"\"\n",
    "t=([('a', 0), ('b', 1), ('c', 2)])\n",
    "d=dict(t)\n",
    "d"
   ]
  },
  {
   "cell_type": "code",
   "execution_count": 57,
   "metadata": {},
   "outputs": [
    {
     "data": {
      "text/plain": [
       "{'a': 0, 'b': 1, 'c': 2}"
      ]
     },
     "execution_count": 57,
     "metadata": {},
     "output_type": "execute_result"
    }
   ],
   "source": [
    "\"\"\"combining dict with zip gives a concise way to create a dictionary\"\"\"\n",
    "d=dict(zip('abc',range(3)))\n",
    "d"
   ]
  },
  {
   "cell_type": "code",
   "execution_count": null,
   "metadata": {},
   "outputs": [],
   "source": [
    "\"\"\"Dictionary method update also takes a list of tuples and add them, as key-value pairs, to an existing dictionary\n",
    "\n",
    "It is common to use tuple as keys because we cannot use lists as key\n",
    "for example- telephone directory might map firstname and lastname pairs to a telephone number\n",
    "\n",
    "directory[last,first]=number we could traverse using tuple assignement as below\n",
    "for last,first in directory:\n",
    "       print(first,last,directory[last,first])\"\"\""
   ]
  }
 ],
 "metadata": {
  "kernelspec": {
   "display_name": "Python 3",
   "language": "python",
   "name": "python3"
  },
  "language_info": {
   "codemirror_mode": {
    "name": "ipython",
    "version": 3
   },
   "file_extension": ".py",
   "mimetype": "text/x-python",
   "name": "python",
   "nbconvert_exporter": "python",
   "pygments_lexer": "ipython3",
   "version": "3.6.5"
  }
 },
 "nbformat": 4,
 "nbformat_minor": 2
}
