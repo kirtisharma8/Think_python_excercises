{
 "cells": [
  {
   "cell_type": "code",
   "execution_count": 17,
   "metadata": {},
   "outputs": [
    {
     "data": {
      "text/plain": [
       "'n'"
      ]
     },
     "execution_count": 17,
     "metadata": {},
     "output_type": "execute_result"
    }
   ],
   "source": [
    "fruit='banana'\n",
    "letter=fruit[1]\n",
    "letter\n",
    "letter=fruit[0]\n",
    "letter\n",
    "i=1\n",
    "fruit[i+3]\n",
    "length=len(fruit)\n",
    "#to get the last letter from a string always write length-1 because it starts from 0\n",
    "last= fruit[length-1]\n",
    "last\n",
    "#or we can use negative indices which starts with -1 "
   ]
  },
  {
   "cell_type": "code",
   "execution_count": 19,
   "metadata": {},
   "outputs": [
    {
     "name": "stdout",
     "output_type": "stream",
     "text": [
      "b\n",
      "a\n",
      "n\n",
      "a\n",
      "n\n",
      "a\n"
     ]
    }
   ],
   "source": [
    "#in text excercise\n",
    "index=0\n",
    "while index < len(fruit):\n",
    "    letter = fruit[index]\n",
    "    print (letter)\n",
    "    index = index+1\n"
   ]
  },
  {
   "cell_type": "code",
   "execution_count": 33,
   "metadata": {},
   "outputs": [
    {
     "name": "stdout",
     "output_type": "stream",
     "text": [
      "u\n",
      "h\n",
      "s\n",
      "a\n",
      "y\n"
     ]
    }
   ],
   "source": [
    "# in text excercise, write a function that takes a string as parameter and dispays each letter back ward one per line\n",
    "def display_back(s):\n",
    "    length = len(s)\n",
    "    index = length-1\n",
    "    while index > -1:\n",
    "        letter=s[index]\n",
    "        print(letter)\n",
    "        index=index-1\n",
    "display_back('yashu')"
   ]
  },
  {
   "cell_type": "code",
   "execution_count": 35,
   "metadata": {},
   "outputs": [
    {
     "name": "stdout",
     "output_type": "stream",
     "text": [
      "b\n",
      "a\n",
      "n\n",
      "a\n",
      "n\n",
      "a\n"
     ]
    }
   ],
   "source": [
    "\"\"\"traversal using for loop, this is going to traverse through each charcter until no character left \"\"\"\n",
    "for letter in fruit:\n",
    "    print(letter)"
   ]
  },
  {
   "cell_type": "code",
   "execution_count": 40,
   "metadata": {},
   "outputs": [
    {
     "name": "stdout",
     "output_type": "stream",
     "text": [
      "Jack\n",
      "Kack\n",
      "Lack\n",
      "Mack\n",
      "Nack\n",
      "Oack\n",
      "Pack\n",
      "Qack\n"
     ]
    }
   ],
   "source": [
    "\"\"\"string concatination using loop to add\"\"\"\n",
    "prefixes='JKLMNOPQ'\n",
    "suffix='ack'\n",
    "for i in prefixes:\n",
    "    print(i+suffix)"
   ]
  },
  {
   "cell_type": "code",
   "execution_count": 57,
   "metadata": {},
   "outputs": [
    {
     "data": {
      "text/plain": [
       "'pencilbox'"
      ]
     },
     "execution_count": 57,
     "metadata": {},
     "output_type": "execute_result"
    }
   ],
   "source": [
    "\"\"\"The below returns the part of the string from index n to m including n but not m\n",
    "[n:m]. if only[n:] this returns the last n charaters of the string , and [:n] gives the first n charaters of the string \"\"\"\n",
    "\n",
    "s='Monty Python' \n",
    "s[0:5]\n",
    "s[6:12]\n",
    "fruit=\"orange\"\n",
    "p='pencilbox'\n",
    "p[:]\n",
    "      "
   ]
  },
  {
   "cell_type": "code",
   "execution_count": 72,
   "metadata": {},
   "outputs": [
    {
     "data": {
      "text/plain": [
       "3"
      ]
     },
     "execution_count": 72,
     "metadata": {},
     "output_type": "execute_result"
    }
   ],
   "source": [
    "#Searching a letter in word through loop, in text example\n",
    "\"\"\"incase if we are searching the letter which exist more than once it just returns the index of first appearance\"\"\"\n",
    "def find(word,letter,index):\n",
    "    while index<len(word):\n",
    "        if word[index]==letter:\n",
    "            return index\n",
    "        index = index +1\n",
    "    return-1\n",
    "find('Kirti','t',0)"
   ]
  },
  {
   "cell_type": "code",
   "execution_count": 67,
   "metadata": {},
   "outputs": [
    {
     "name": "stdout",
     "output_type": "stream",
     "text": [
      "3\n"
     ]
    }
   ],
   "source": [
    "#Counter function from text which counts the number of times a letter appears in string\n",
    "word='banana'\n",
    "count=0\n",
    "for letter in word:\n",
    "    if letter =='a':\n",
    "        count = count +1\n",
    "print (count)"
   ]
  },
  {
   "cell_type": "code",
   "execution_count": 91,
   "metadata": {},
   "outputs": [
    {
     "name": "stdout",
     "output_type": "stream",
     "text": [
      "20 12 17 21\n"
     ]
    }
   ],
   "source": [
    "#text excercise based below function which count the char appearing number of time in a string\n",
    "\"\"\"Also below is a solution to first question of assignment, just output needs to be in list\"\"\"\n",
    "def count(s,l):\n",
    "    count = 0\n",
    "    for letter in s:\n",
    "        if letter == l:\n",
    "            count = count + 1\n",
    "    return count\n",
    "s = 'AGCTTTTCATTCTGACTGCAACGGGCAATATGTCTCTGTGTGGATTAAAAAAAGAGTGTCTGATAGCAGC'\n",
    "print(count(s,'A'),count(s,'C'),count(s,'G'),count(s,'T'))"
   ]
  },
  {
   "cell_type": "code",
   "execution_count": 3,
   "metadata": {},
   "outputs": [
    {
     "data": {
      "text/plain": [
       "8"
      ]
     },
     "execution_count": 3,
     "metadata": {},
     "output_type": "execute_result"
    }
   ],
   "source": [
    "#find method \n",
    "name='yashupashu'\n",
    "name.find('h',4)\n",
    "#in operator"
   ]
  },
  {
   "cell_type": "code",
   "execution_count": 7,
   "metadata": {},
   "outputs": [
    {
     "name": "stdout",
     "output_type": "stream",
     "text": [
      "y\n",
      "a\n",
      "s\n",
      "h\n",
      "u\n"
     ]
    }
   ],
   "source": [
    "# Text example following function print all the the letters from wor1 that exist in word2 \n",
    "def in_both(word1,word2):\n",
    "    for letter in word1:\n",
    "        if letter in word2:\n",
    "            print(letter)\n",
    "in_both('yashu','pashuyashu')"
   ]
  },
  {
   "cell_type": "code",
   "execution_count": 16,
   "metadata": {},
   "outputs": [
    {
     "name": "stdout",
     "output_type": "stream",
     "text": [
      "0 4\n",
      "1 3\n",
      "2 2\n",
      "3 1\n",
      "4 0\n"
     ]
    },
    {
     "data": {
      "text/plain": [
       "True"
      ]
     },
     "execution_count": 16,
     "metadata": {},
     "output_type": "execute_result"
    }
   ],
   "source": [
    "#in text debugging problem solved by fixing the below loop, 1 fix was given in text\n",
    "def is_reverse(word1,word2):\n",
    "    if len(word1)!=len(word2):\n",
    "        return False\n",
    "    i=0\n",
    "    j=len(word2)-1\n",
    "  #while j>0 it is wrong and loop run 1 less time so it should be  \n",
    "    while j>-1:\n",
    "        print(i,j)\n",
    "        if word1[i] != word2[j]:\n",
    "            return False\n",
    "        i=i+1\n",
    "        j=j-1\n",
    "    return True\n",
    "is_reverse('yashu','uhsay')\n",
    "    "
   ]
  },
  {
   "cell_type": "code",
   "execution_count": 2,
   "metadata": {},
   "outputs": [
    {
     "data": {
      "text/plain": [
       "3"
      ]
     },
     "execution_count": 2,
     "metadata": {},
     "output_type": "execute_result"
    }
   ],
   "source": [
    "#ex8.2 calling count invocation\n",
    "fruit = 'banana'\n",
    "fruit.count('a')"
   ]
  },
  {
   "cell_type": "code",
   "execution_count": 7,
   "metadata": {},
   "outputs": [
    {
     "data": {
      "text/plain": [
       "True"
      ]
     },
     "execution_count": 7,
     "metadata": {},
     "output_type": "execute_result"
    }
   ],
   "source": [
    "#EX8.3 rewrite is_palindrome(Ex6.3.2) function which checks if the word is palindrome of not\n",
    "def is_palindrome(s):\n",
    "    if s == s[::-1]:\n",
    "        return True\n",
    "    else:\n",
    "        return False\n",
    "is_palindrome('kayak')"
   ]
  },
  {
   "cell_type": "code",
   "execution_count": 48,
   "metadata": {},
   "outputs": [
    {
     "name": "stdout",
     "output_type": "stream",
     "text": [
      "Y\n"
     ]
    },
    {
     "data": {
      "text/plain": [
       "False"
      ]
     },
     "execution_count": 48,
     "metadata": {},
     "output_type": "execute_result"
    }
   ],
   "source": [
    "#Ex8.4 check and explain below functions and find out what is wrong\n",
    "#fucnt1\n",
    " # Checks only first letter in string if it is lowercase or not and returns\n",
    "    # boolean.\n",
    "\"\"\"is lower function returns true if all the letters of the string are lower case\"\"\"\n",
    "def any_lowercase1(s):\n",
    "    for c in s:\n",
    "        if c.islower():\n",
    "            return True\n",
    "        else:\n",
    "            return False\n",
    "any_lowercase1('Yashu')\n",
    "\n",
    "\n"
   ]
  },
  {
   "cell_type": "code",
   "execution_count": 27,
   "metadata": {},
   "outputs": [
    {
     "name": "stdout",
     "output_type": "stream",
     "text": [
      "x\n"
     ]
    },
    {
     "data": {
      "text/plain": [
       "'The above function is not working uptu the functionality as it is just checking the letter C is lower or not instead\\nof parsing the string parameter from the user'"
      ]
     },
     "execution_count": 27,
     "metadata": {},
     "output_type": "execute_result"
    }
   ],
   "source": [
    "#funct2\n",
    "def any_lowercase2(s):\n",
    "    for c in s:\n",
    "        if 'c'.islower():\n",
    "            print(c)\n",
    "            return 'True'\n",
    "        else:\n",
    "            return 'False'\n",
    "any_lowercase2('xcy')\n",
    "\"\"\"The above function is not working uptu the functionality as it is just checking the letter C is lower or not instead\n",
    "of parsing the string parameter from the user\"\"\" "
   ]
  },
  {
   "cell_type": "code",
   "execution_count": 71,
   "metadata": {},
   "outputs": [
    {
     "data": {
      "text/plain": [
       "True"
      ]
     },
     "execution_count": 71,
     "metadata": {},
     "output_type": "execute_result"
    }
   ],
   "source": [
    "#funct3\n",
    "  # Checks if each letter in string is lowercased or not and assigned the outcome\n",
    "    # (boolean value) to the variable 'flag'; new value is assigned to 'flag' with\n",
    "    # every checked letter;\n",
    "    # Returns boolean value of calling islower() method on only the last letter\n",
    "    # of the given string;\n",
    "def any_lowercase3(s):\n",
    "    for c in s:\n",
    "        flag=c.islower()\n",
    "        return flag\n",
    "any_lowercase3('maLOo')\n"
   ]
  },
  {
   "cell_type": "code",
   "execution_count": 39,
   "metadata": {},
   "outputs": [
    {
     "data": {
      "text/plain": [
       "'the below function will return flag=true only if islower is returning true otherwise value of flag will be false'"
      ]
     },
     "execution_count": 39,
     "metadata": {},
     "output_type": "execute_result"
    }
   ],
   "source": [
    "#funct4\n",
    " # Checks if there is ANY lowercased letter in given string and returns boolean;\n",
    "def any_lowercase4(s):\n",
    "    flag=False\n",
    "    for c in s:\n",
    "        flag=flag or c.islower()\n",
    "        return flag\n",
    "any_lowercase4('yashu')\n"
   ]
  },
  {
   "cell_type": "code",
   "execution_count": 75,
   "metadata": {},
   "outputs": [
    {
     "data": {
      "text/plain": [
       "False"
      ]
     },
     "execution_count": 75,
     "metadata": {},
     "output_type": "execute_result"
    }
   ],
   "source": [
    "#funct4\n",
    " # Checks every letter if it is not lowercased and returns boolean if all the\n",
    "    # letters in string are lowercased or not;\n",
    "def any_lowercase5(s):\n",
    "    for c in s:\n",
    "        if not c.islower():\n",
    "            return False\n",
    "    return True\n",
    "\n",
    "any_lowercase5('hkL')\n"
   ]
  },
  {
   "cell_type": "code",
   "execution_count": 47,
   "metadata": {},
   "outputs": [
    {
     "data": {
      "text/plain": [
       "'c[bed'"
      ]
     },
     "execution_count": 47,
     "metadata": {},
     "output_type": "execute_result"
    }
   ],
   "source": [
    "#ex8.5 below function rotates a string by the given interger. \n",
    "#v=ord('c') + 3\n",
    "#chr(v)\n",
    "\"\"\"\n",
    "a='a'\n",
    "b='b'\n",
    "c='c'\n",
    "r=a+b+c\n",
    "result is abc\n",
    "note- it is important to define a variable as empty if we want to assign a value to it self.\n",
    "\"\"\"\n",
    "def rotate_word(s,n):\n",
    "    index=0\n",
    "    new_s=''\n",
    "    while index<len(s):\n",
    "        l=ord(s[index]) + n\n",
    "        new_l=chr(l)\n",
    "        index=index+1\n",
    "        new_s= new_s + new_l\n",
    "    return new_s\n",
    "rotate_word('melon',-10)\n",
    "# For some reason in my solution melon rotated at -10 is not returning cubed instead it is returning 'c[bed'\n",
    "#tried different scenarios and seems like in book it is wrong also verified running into online decoder\n"
   ]
  },
  {
   "cell_type": "code",
   "execution_count": 49,
   "metadata": {},
   "outputs": [
    {
     "name": "stdout",
     "output_type": "stream",
     "text": [
      "jolly\n",
      "c[bed\n"
     ]
    }
   ],
   "source": [
    "#below is the solution from book, also gave the same output\n",
    "def rotate_word2(word, shift):\n",
    "    \"\"\"Uses Ceasar cypher to encrypt given word using given shift.\"\"\"\n",
    "    rotated_word = ''\n",
    "    for letter in word:\n",
    "        rotated_word += chr(ord(letter) + shift)\n",
    "    return rotated_word\n",
    "\n",
    "print(rotate_word2('cheer', 7))\n",
    "print(rotate_word2('melon', -10))"
   ]
  },
  {
   "cell_type": "code",
   "execution_count": 5,
   "metadata": {},
   "outputs": [
    {
     "data": {
      "text/plain": [
       "33"
      ]
     },
     "execution_count": 5,
     "metadata": {},
     "output_type": "execute_result"
    }
   ],
   "source": [
    "# Ex from class notes- write an expression to produce the second occurance of the s2 string in sthe s1 string\n",
    "s1 = 'supercalifragilisticexpialidociouals'\n",
    "s2 = 'al'\n",
    "first_occurance=s1.find(s2)\n",
    "first_occurance\n",
    "#for second occurance it will start searching from the next index after the first occurance\n",
    "second_occurance=s1.find(s2,first_occurance+1)\n",
    "second_occurance\n",
    "third_occurance=s1.find(s2,second_occurance+1)\n",
    "third_occurance"
   ]
  }
 ],
 "metadata": {
  "kernelspec": {
   "display_name": "Python 3",
   "language": "python",
   "name": "python3"
  },
  "language_info": {
   "codemirror_mode": {
    "name": "ipython",
    "version": 3
   },
   "file_extension": ".py",
   "mimetype": "text/x-python",
   "name": "python",
   "nbconvert_exporter": "python",
   "pygments_lexer": "ipython3",
   "version": "3.6.5"
  }
 },
 "nbformat": 4,
 "nbformat_minor": 2
}
