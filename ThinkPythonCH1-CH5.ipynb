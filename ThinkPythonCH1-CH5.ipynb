{
 "cells": [
  {
   "cell_type": "code",
   "execution_count": 1,
   "metadata": {},
   "outputs": [
    {
     "name": "stdout",
     "output_type": "stream",
     "text": [
      "Help on built-in function print in module builtins:\n",
      "\n",
      "print(...)\n",
      "    print(value, ..., sep=' ', end='\\n', file=sys.stdout, flush=False)\n",
      "    \n",
      "    Prints the values to a stream, or to sys.stdout by default.\n",
      "    Optional keyword arguments:\n",
      "    file:  a file-like object (stream); defaults to the current sys.stdout.\n",
      "    sep:   string inserted between values, default a space.\n",
      "    end:   string appended after the last value, default a newline.\n",
      "    flush: whether to forcibly flush the stream.\n",
      "\n"
     ]
    }
   ],
   "source": [
    "help('print')"
   ]
  },
  {
   "cell_type": "code",
   "execution_count": 12,
   "metadata": {},
   "outputs": [
    {
     "name": "stdout",
     "output_type": "stream",
     "text": [
      "0.725\n",
      "8.567144998929106\n",
      "420.21000000000004\n"
     ]
    }
   ],
   "source": [
    "#Ex 1.4\n",
    "distance = 10/1.61 #convert distance to miles\n",
    "time = (43*60)+30  #convert time in seconds\n",
    "timehr=time/3600 #convert time into hours\n",
    "print(timehr)\n",
    "speed = distance/timehr\n",
    "print(speed)\n",
    "AverageTimepermile = time/distance #time in seconds\n",
    "print(AverageTimepermile)"
   ]
  },
  {
   "cell_type": "code",
   "execution_count": 14,
   "metadata": {},
   "outputs": [
    {
     "data": {
      "text/plain": [
       "int"
      ]
     },
     "execution_count": 14,
     "metadata": {},
     "output_type": "execute_result"
    }
   ],
   "source": [
    "type (17)"
   ]
  },
  {
   "cell_type": "code",
   "execution_count": 15,
   "metadata": {},
   "outputs": [
    {
     "data": {
      "text/plain": [
       "0.9833333333333333"
      ]
     },
     "execution_count": 15,
     "metadata": {},
     "output_type": "execute_result"
    }
   ],
   "source": [
    "#Chapter2\n",
    "minute = 59\n",
    "minute/60"
   ]
  },
  {
   "cell_type": "code",
   "execution_count": 20,
   "metadata": {},
   "outputs": [
    {
     "name": "stdout",
     "output_type": "stream",
     "text": [
      "6\n"
     ]
    }
   ],
   "source": [
    "#Ex2.1\n",
    "5\n",
    "x=5\n",
    "print (x+1)"
   ]
  },
  {
   "cell_type": "code",
   "execution_count": 25,
   "metadata": {},
   "outputs": [
    {
     "name": "stdout",
     "output_type": "stream",
     "text": [
      "6.0\n",
      "6.0\n",
      "4.0\n",
      "11\n",
      ".....\n"
     ]
    },
    {
     "data": {
      "text/plain": [
       "str"
      ]
     },
     "execution_count": 25,
     "metadata": {},
     "output_type": "execute_result"
    }
   ],
   "source": [
    "#EX2.2\n",
    "width=12\n",
    "height=12.0\n",
    "delimiter='.'\n",
    "a=width/2\n",
    "print(a)\n",
    "type(a)\n",
    "\n",
    "b=width/2.0\n",
    "print(b)\n",
    "type(b)\n",
    "\n",
    "c=height/3\n",
    "print(c)\n",
    "type(c)\n",
    "\n",
    "d=1+2*5\n",
    "print(d)\n",
    "type(d)\n",
    "\n",
    "e=delimiter*5\n",
    "print(e)\n",
    "type(e)"
   ]
  },
  {
   "cell_type": "code",
   "execution_count": 26,
   "metadata": {},
   "outputs": [
    {
     "name": "stdout",
     "output_type": "stream",
     "text": [
      "523.3333333333334\n"
     ]
    }
   ],
   "source": [
    "#EX2.3.1\n",
    "r=5\n",
    "area_of_sphere= 4/3*3.14*r**3\n",
    "print(area_of_sphere)"
   ]
  },
  {
   "cell_type": "code",
   "execution_count": 30,
   "metadata": {},
   "outputs": [
    {
     "name": "stdout",
     "output_type": "stream",
     "text": [
      "945.4499999999999\n"
     ]
    }
   ],
   "source": [
    "#Ex2.3.2\n",
    "cover_price=24.95\n",
    "discount_price=cover_price-(24.95*40/100)\n",
    "wholesale_cost1=discount_price+3\n",
    "wholesale_cost59=(discount_price+0.75)*59\n",
    "wholesale_cost=wholesale_cost1+wholesale_cost59\n",
    "print(wholesale_cost)"
   ]
  },
  {
   "cell_type": "code",
   "execution_count": 41,
   "metadata": {},
   "outputs": [
    {
     "name": "stdout",
     "output_type": "stream",
     "text": [
      "2286\n",
      "38.1\n",
      "7.501666666666667\n"
     ]
    }
   ],
   "source": [
    "#EX2.3.3\n",
    "easyspeed=8*60+15\n",
    "tempospeed=7*60+12\n",
    "total_time_run=easyspeed*2+tempospeed*3\n",
    "print(total_time_run)\n",
    "timeinminutes=total_time_run/60\n",
    "print(timeinminutes)\n",
    "starttime=6*60+52\n",
    "reachtimeinminutes =(starttime+timeinminutes)/60\n",
    "print(reachtimeinminutes)\n",
    "\n",
    "#coverting 7.5 into hr and mins is 7 hour and .5 is 30 mins\n"
   ]
  },
  {
   "cell_type": "code",
   "execution_count": 44,
   "metadata": {},
   "outputs": [
    {
     "data": {
      "text/plain": [
       "4.0"
      ]
     },
     "execution_count": 44,
     "metadata": {},
     "output_type": "execute_result"
    }
   ],
   "source": [
    "import math\n",
    "math.sqrt(16)"
   ]
  },
  {
   "cell_type": "code",
   "execution_count": 62,
   "metadata": {},
   "outputs": [
    {
     "name": "stdout",
     "output_type": "stream",
     "text": [
      "                                                             sixpixlol\n"
     ]
    }
   ],
   "source": [
    "#Ex3.3- the below function takes a string as a parameterand prints string with enough\n",
    "#leading spaces so that the last letter is always on the 70th column\n",
    "def right_justify(s):\n",
    "    space=(70-len(s))*' ' #len()function returns the length of the string\n",
    "    print(space+s)\n",
    "right_justify('sixpixlol')"
   ]
  },
  {
   "cell_type": "code",
   "execution_count": 73,
   "metadata": {},
   "outputs": [
    {
     "name": "stdout",
     "output_type": "stream",
     "text": [
      "spam\n",
      "spam\n"
     ]
    }
   ],
   "source": [
    "#EX3.4 part1 just type the script\n",
    "def do_twice(f):\n",
    "    f()\n",
    "    f()\n",
    "def print_spam():\n",
    "    print('spam')\n",
    "do_twice(print_spam)"
   ]
  },
  {
   "cell_type": "code",
   "execution_count": 83,
   "metadata": {},
   "outputs": [
    {
     "name": "stdout",
     "output_type": "stream",
     "text": [
      "spam\n",
      "spam\n",
      "spam\n",
      "spam\n",
      "four\n",
      "four\n",
      "four\n",
      "four\n",
      "four\n",
      "four\n",
      "four\n",
      "four\n"
     ]
    }
   ],
   "source": [
    "#EX3.4 part2- modify do_twice that it takes two arguments, a function object and a value.\n",
    "def do_twice(f,a):\n",
    "    f(a)\n",
    "    f(a)\n",
    "#Ex3.4.3\n",
    "def print_twice(a):\n",
    "    print (a)\n",
    "    print (a)\n",
    "#Ex3.4.4\n",
    "do_twice(print_twice,'spam')\n",
    "#EX3.4.5\n",
    "def do_four(fun,arg):\n",
    "    do_twice(fun,arg)\n",
    "    do_twice(fun,arg)\n",
    "do_four(print_twice,'four')"
   ]
  },
  {
   "cell_type": "code",
   "execution_count": 106,
   "metadata": {},
   "outputs": [
    {
     "name": "stdout",
     "output_type": "stream",
     "text": [
      "+ ---- + ---- +\n",
      "|      |      |\n",
      "|      |      |\n",
      "|      |      |\n",
      "|      |      |\n",
      "+ ---- + ---- +\n",
      "|      |      |\n",
      "|      |      |\n",
      "|      |      |\n",
      "|      |      |\n",
      "+ ---- + ---- +\n"
     ]
    }
   ],
   "source": [
    "#Ex3.5.1\n",
    "def print_grid():\n",
    "    print('+',4*'-','+',4*'-','+')\n",
    "    print('|',4*' ','|',4*' ','|')\n",
    "    print('|',4*' ','|',4*' ','|')\n",
    "    print('|',4*' ','|',4*' ','|')\n",
    "    print('|',4*' ','|',4*' ','|')\n",
    "    print('+',4*'-','+',4*'-','+')\n",
    "    print('|',4*' ','|',4*' ','|')\n",
    "    print('|',4*' ','|',4*' ','|')\n",
    "    print('|',4*' ','|',4*' ','|')\n",
    "    print('|',4*' ','|',4*' ','|')\n",
    "    print('+',4*'-','+',4*'-','+')\n",
    "print_grid()  \n",
    "\n",
    "  \n",
    "    \n"
   ]
  },
  {
   "cell_type": "code",
   "execution_count": 17,
   "metadata": {},
   "outputs": [
    {
     "name": "stdout",
     "output_type": "stream",
     "text": [
      "hello\n",
      "hello\n",
      "hello\n",
      "hello\n",
      "hello\n",
      "hello\n",
      "hello\n",
      "hello\n",
      "hello\n",
      "hello\n"
     ]
    }
   ],
   "source": [
    "#CH5 within chapter try\n",
    "def print_n(s,n):\n",
    "    if n<=0:\n",
    "        return\n",
    "    print(s)\n",
    "    print_n(s,n-1)\n",
    "#print_n('yashu',3)\n",
    "\n",
    "def do_n(f,n):\n",
    "    if n<=0:\n",
    "        return\n",
    "    print_n('hello',2)\n",
    "    do_n(f,n-1)\n",
    "do_n(print_n,5)\n",
    "\n"
   ]
  },
  {
   "cell_type": "code",
   "execution_count": 18,
   "metadata": {},
   "outputs": [
    {
     "data": {
      "text/plain": [
       "1537814274.884804"
      ]
     },
     "execution_count": 18,
     "metadata": {},
     "output_type": "execute_result"
    }
   ],
   "source": [
    "#EX5.1\n",
    "import time\n",
    "time.time()"
   ]
  },
  {
   "cell_type": "code",
   "execution_count": 33,
   "metadata": {},
   "outputs": [
    {
     "name": "stdout",
     "output_type": "stream",
     "text": [
      "enter value of a \n",
      "3\n",
      "enter value of b \n",
      "4\n",
      "enter value of c \n",
      "5\n",
      "enter a valid value of n3\n",
      "No,that doesn't work\n"
     ]
    }
   ],
   "source": [
    "#EX5.2\n",
    "def check_fermat(a,b,c,n):\n",
    "        if n>2:\n",
    "            if a**n+b**n==c**n:\n",
    "                print(\"Holy smokes,Fermat was wrong\")\n",
    "            else:\n",
    "                print(\"No,that doesn't work\")\n",
    "        else:\n",
    "            print(\"n is less than 2 so theorem cannot be verified\")\n",
    "#check_fermat(2,3,4,4)\n",
    "\n",
    "#Ex5.2.2\n",
    "\n",
    "def entervalue():\n",
    "    a=input('enter value of a \\n')\n",
    "    a=int(a)\n",
    "    b= input('enter value of b \\n')\n",
    "    b=int(b)\n",
    "    c=input('enter value of c \\n')\n",
    "    c=int(c)\n",
    "    n= input( 'enter a valid value of n')\n",
    "    n=int(n)\n",
    "    check_fermat(a,b,c,n)               \n",
    "        \n",
    "entervalue()       "
   ]
  },
  {
   "cell_type": "code",
   "execution_count": 9,
   "metadata": {},
   "outputs": [
    {
     "name": "stdout",
     "output_type": "stream",
     "text": [
      "No\n"
     ]
    }
   ],
   "source": [
    "#EX5.3.1\n",
    "\n",
    "def is_triangle(a,b,c):\n",
    "    if (a+b)>c:\n",
    "        print(\"No\")\n",
    "    elif (a+c)>b:\n",
    "            print('No')\n",
    "    elif (b+c)>a:\n",
    "                print('No')\n",
    "    else:\n",
    "        print('yes')\n",
    "\n",
    "is_triangle(7,3,12)  "
   ]
  },
  {
   "cell_type": "code",
   "execution_count": 10,
   "metadata": {},
   "outputs": [
    {
     "name": "stdout",
     "output_type": "stream",
     "text": [
      "enter the value of a:5\n",
      "enter the value of b:6\n",
      "enter the value of c:7\n",
      "No\n"
     ]
    }
   ],
   "source": [
    "#EX 5.3.2\n",
    "def enter_sides():\n",
    "    a=input(\"enter the value of a:\")\n",
    "    b=input(\"enter the value of b:\")\n",
    "    c=input(\"enter the value of c:\")\n",
    "    is_triangle(int(a),int(b),int(c))\n",
    "enter_sides()"
   ]
  },
  {
   "cell_type": "code",
   "execution_count": 15,
   "metadata": {},
   "outputs": [
    {
     "name": "stdout",
     "output_type": "stream",
     "text": [
      "6\n"
     ]
    }
   ],
   "source": [
    "#EX5-4\n",
    "def recurse(n,s):\n",
    "    if n==0:\n",
    "        print(s)\n",
    "    else:\n",
    "        recurse(n-1,n+s)\n",
    "recurse(3,0)\n",
    "\n"
   ]
  },
  {
   "cell_type": "code",
   "execution_count": 12,
   "metadata": {},
   "outputs": [
    {
     "ename": "RecursionError",
     "evalue": "maximum recursion depth exceeded in comparison",
     "output_type": "error",
     "traceback": [
      "\u001b[1;31m---------------------------------------------------------------------------\u001b[0m",
      "\u001b[1;31mRecursionError\u001b[0m                            Traceback (most recent call last)",
      "\u001b[1;32m<ipython-input-12-ed4327a34fcd>\u001b[0m in \u001b[0;36m<module>\u001b[1;34m()\u001b[0m\n\u001b[0;32m      1\u001b[0m \u001b[1;31m#EX5-4-1\u001b[0m\u001b[1;33m\u001b[0m\u001b[1;33m\u001b[0m\u001b[0m\n\u001b[1;32m----> 2\u001b[1;33m \u001b[0mrecurse\u001b[0m\u001b[1;33m(\u001b[0m\u001b[1;33m-\u001b[0m\u001b[1;36m1\u001b[0m\u001b[1;33m,\u001b[0m\u001b[1;36m0\u001b[0m\u001b[1;33m)\u001b[0m\u001b[1;33m\u001b[0m\u001b[0m\n\u001b[0m",
      "\u001b[1;32m<ipython-input-11-9c0084d3ba58>\u001b[0m in \u001b[0;36mrecurse\u001b[1;34m(n, s)\u001b[0m\n\u001b[0;32m      4\u001b[0m         \u001b[0mprint\u001b[0m\u001b[1;33m(\u001b[0m\u001b[0ms\u001b[0m\u001b[1;33m)\u001b[0m\u001b[1;33m\u001b[0m\u001b[0m\n\u001b[0;32m      5\u001b[0m     \u001b[1;32melse\u001b[0m\u001b[1;33m:\u001b[0m\u001b[1;33m\u001b[0m\u001b[0m\n\u001b[1;32m----> 6\u001b[1;33m         \u001b[0mrecurse\u001b[0m\u001b[1;33m(\u001b[0m\u001b[0mn\u001b[0m\u001b[1;33m-\u001b[0m\u001b[1;36m1\u001b[0m\u001b[1;33m,\u001b[0m\u001b[0mn\u001b[0m\u001b[1;33m+\u001b[0m\u001b[0ms\u001b[0m\u001b[1;33m)\u001b[0m\u001b[1;33m\u001b[0m\u001b[0m\n\u001b[0m\u001b[0;32m      7\u001b[0m \u001b[0mrecurse\u001b[0m\u001b[1;33m(\u001b[0m\u001b[1;36m3\u001b[0m\u001b[1;33m,\u001b[0m\u001b[1;36m0\u001b[0m\u001b[1;33m)\u001b[0m\u001b[1;33m\u001b[0m\u001b[0m\n",
      "... last 1 frames repeated, from the frame below ...\n",
      "\u001b[1;32m<ipython-input-11-9c0084d3ba58>\u001b[0m in \u001b[0;36mrecurse\u001b[1;34m(n, s)\u001b[0m\n\u001b[0;32m      4\u001b[0m         \u001b[0mprint\u001b[0m\u001b[1;33m(\u001b[0m\u001b[0ms\u001b[0m\u001b[1;33m)\u001b[0m\u001b[1;33m\u001b[0m\u001b[0m\n\u001b[0;32m      5\u001b[0m     \u001b[1;32melse\u001b[0m\u001b[1;33m:\u001b[0m\u001b[1;33m\u001b[0m\u001b[0m\n\u001b[1;32m----> 6\u001b[1;33m         \u001b[0mrecurse\u001b[0m\u001b[1;33m(\u001b[0m\u001b[0mn\u001b[0m\u001b[1;33m-\u001b[0m\u001b[1;36m1\u001b[0m\u001b[1;33m,\u001b[0m\u001b[0mn\u001b[0m\u001b[1;33m+\u001b[0m\u001b[0ms\u001b[0m\u001b[1;33m)\u001b[0m\u001b[1;33m\u001b[0m\u001b[0m\n\u001b[0m\u001b[0;32m      7\u001b[0m \u001b[0mrecurse\u001b[0m\u001b[1;33m(\u001b[0m\u001b[1;36m3\u001b[0m\u001b[1;33m,\u001b[0m\u001b[1;36m0\u001b[0m\u001b[1;33m)\u001b[0m\u001b[1;33m\u001b[0m\u001b[0m\n",
      "\u001b[1;31mRecursionError\u001b[0m: maximum recursion depth exceeded in comparison"
     ]
    }
   ],
   "source": [
    "#EX5-4-1 and 2\n",
    "\"\"\"This function recurse takes the positive interger n and prints the valus of s,\n",
    "this function will go into infinite recurse if the value of n is not positive \"\"\"\n",
    "recurse(-1,0)"
   ]
  },
  {
   "cell_type": "code",
   "execution_count": null,
   "metadata": {},
   "outputs": [],
   "source": []
  }
 ],
 "metadata": {
  "kernelspec": {
   "display_name": "Python 3",
   "language": "python",
   "name": "python3"
  },
  "language_info": {
   "codemirror_mode": {
    "name": "ipython",
    "version": 3
   },
   "file_extension": ".py",
   "mimetype": "text/x-python",
   "name": "python",
   "nbconvert_exporter": "python",
   "pygments_lexer": "ipython3",
   "version": "3.6.5"
  }
 },
 "nbformat": 4,
 "nbformat_minor": 2
}
